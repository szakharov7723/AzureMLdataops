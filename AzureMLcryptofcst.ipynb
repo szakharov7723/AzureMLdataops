{
 "cells": [
  {
   "cell_type": "code",
   "execution_count": null,
   "metadata": {
    "application/vnd.databricks.v1+cell": {
     "inputWidgets": {},
     "nuid": "47a4ab6c-f629-4ea9-a60c-a6c8b7b5bcfa",
     "showTitle": false,
     "title": ""
    }
   },
   "outputs": [],
   "source": [
    "from azureml.core import Dataset, Datastore\n",
    "from azureml.data.datapath import DataPath\n",
    "from azureml.core.workspace import Workspace\n",
    "from azureml.core.authentication import ServicePrincipalAuthentication\n",
    "\n",
    "sp = ServicePrincipalAuthentication(tenant_id=\"\", # tenantID\n",
    "                                    service_principal_id=\"\", # clientId\n",
    "                                    service_principal_password=\"\") # clientSecret\n",
    "\n",
    "\n",
    "ws = Workspace.get(subscription_id=\"6c304488-2903-485c-a8bd-404858da811b\",\n",
    "                   resource_group=\"AzureML\",\n",
    "                   name=\"PipelineML\",\n",
    "                   auth=sp)\n",
    "\n",
    "\n",
    "# create tabular dataset from a SQL database in datastore\n",
    "datastore = Datastore.get(ws, 'sqbconnector')\n",
    "query = DataPath(datastore, 'SELECT TradeDate, BCHprice, FinalSentiment FROM Finaldata')\n",
    "tabular = Dataset.Tabular.from_sql_query(query, query_timeout=10)"
   ]
  },
  {
   "cell_type": "code",
   "execution_count": null,
   "metadata": {
    "application/vnd.databricks.v1+cell": {
     "inputWidgets": {},
     "nuid": "1855761f-7d2a-4df7-9987-baa519c92a4c",
     "showTitle": false,
     "title": ""
    }
   },
   "outputs": [],
   "source": [
    "from azureml.core.model import InferenceConfig\n",
    "from azureml.core.environment import Environment\n",
    "from azureml.core import Workspace\n",
    "from azureml.core.model import Model\n",
    "from azureml.core.conda_dependencies import CondaDependencies\n",
    "import joblib\n",
    "from azureml.automl.core.forecasting_parameters import ForecastingParameters\n",
    "\n",
    "forecasting_parameters = ForecastingParameters(time_column_name='TradeDate', \n",
    "                                               forecast_horizon=12,\n",
    "                                               freq='D',\n",
    "                                               target_lags='auto')\n",
    "\n",
    "\n",
    "train_data = tabular\n",
    "label = \"BCHprice\"\n",
    "\n",
    "\n",
    "\n",
    "cluster = ws.compute_targets['crypto-ml-cluster']\n",
    "\n",
    "from azureml.core.experiment import Experiment\n",
    "from azureml.train.automl import AutoMLConfig\n",
    "import logging\n",
    "from azureml.core.runconfig import RunConfiguration\n",
    "\n",
    "automl_config = AutoMLConfig(task='forecasting',\n",
    "                             primary_metric='normalized_root_mean_squared_error',\n",
    "                             experiment_timeout_minutes=15,\n",
    "                             compute_target = cluster,\n",
    "                             enable_early_stopping=True,\n",
    "                             training_data=train_data,\n",
    "                             label_column_name=label,\n",
    "                             n_cross_validations=5,\n",
    "                             enable_ensembling=False,\n",
    "                             verbosity=logging.INFO,\n",
    "                             forecasting_parameters=forecasting_parameters)\n",
    "\n"
   ]
  },
  {
   "cell_type": "code",
   "execution_count": null,
   "metadata": {
    "application/vnd.databricks.v1+cell": {
     "inputWidgets": {},
     "nuid": "9555f62b-d3e2-4e61-b074-2b90bcf5af90",
     "showTitle": false,
     "title": ""
    }
   },
   "outputs": [],
   "source": [
    "import sklearn\n",
    "\n",
    "experiment = Experiment(ws, \"Mlfcstm\")\n",
    "remote_run = experiment.submit(automl_config, show_output=True)\n"
   ]
  },
  {
   "cell_type": "code",
   "execution_count": null,
   "metadata": {
    "application/vnd.databricks.v1+cell": {
     "inputWidgets": {},
     "nuid": "5b0dbebe-7832-456c-8828-114a02361e51",
     "showTitle": false,
     "title": ""
    }
   },
   "outputs": [],
   "source": [
    "import mlflow\n",
    "import pandas as pd\n",
    "import datetime\n",
    "today = pd.Timestamp.today()\n",
    "d = datetime.timedelta(days = 14)\n",
    "fcstrange = today + d\n",
    "#print(yesterday)\n",
    "\n",
    "best_run, fitted_model = remote_run.get_output()\n",
    "\n",
    "import numpy as np\n",
    "label_fcst, data_trans = fitted_model.forecast(\n",
    "     forecast_destination=fcstrange)"
   ]
  },
  {
   "cell_type": "code",
   "execution_count": null,
   "metadata": {
    "application/vnd.databricks.v1+cell": {
     "inputWidgets": {},
     "nuid": "af6a50f8-649b-44b9-8a87-36a2ccc053da",
     "showTitle": false,
     "title": ""
    }
   },
   "outputs": [],
   "source": [
    "#check how automl processed features\n",
    "#fitted_model.named_steps['timeseriestransformer'].get_featurization_summary()"
   ]
  },
  {
   "cell_type": "code",
   "execution_count": null,
   "metadata": {
    "application/vnd.databricks.v1+cell": {
     "inputWidgets": {},
     "nuid": "3546fc77-c96f-4731-9e04-bd329409c14a",
     "showTitle": false,
     "title": ""
    }
   },
   "outputs": [],
   "source": []
  },
  {
   "cell_type": "code",
   "execution_count": null,
   "metadata": {
    "application/vnd.databricks.v1+cell": {
     "inputWidgets": {},
     "nuid": "87d8670d-160f-4e64-8ce8-e9fcf3f4fb1d",
     "showTitle": false,
     "title": ""
    }
   },
   "outputs": [],
   "source": [
    "fcstprice = list(label_fcst)\n",
    "fcstdate = pd.date_range(start=today,end=fcstrange)\n",
    "\n",
    "\n",
    "df = pd.DataFrame(list(zip(fcstdate, fcstprice)), \n",
    "               columns =['ForecastDate', 'ForecastPrice'])\n"
   ]
  },
  {
   "cell_type": "code",
   "execution_count": null,
   "metadata": {
    "application/vnd.databricks.v1+cell": {
     "inputWidgets": {},
     "nuid": "54e84dda-fe05-44a1-9025-6df8939264f1",
     "showTitle": false,
     "title": ""
    }
   },
   "outputs": [],
   "source": [
    "import pyodbc\n",
    "server = 'bchtradingserver.database.windows.net' \n",
    "database = 'BCH_trading_data' \n",
    "username = '' \n",
    "password = ''  \n",
    "\n",
    "driver = [item for item in pyodbc.drivers()][-1]\n",
    "\n",
    "con_string = f'DRIVER={driver};SERVER={server};DATABASE={database};UID={username};PWD={password}'\n",
    "cnxn = pyodbc.connect(con_string)\n",
    "\n",
    "cursor = cnxn.cursor()\n",
    "\n",
    "#Since our table is used only for reporting needs, we don't need to keep history data\n",
    "cursor.execute(\"TRUNCATE TABLE [dbo].[ForecastPrice]\")\n",
    "\n",
    "for index, row in df.iterrows():\n",
    "    cursor.execute(\"INSERT INTO [dbo].[ForecastPrice] (FcstBCHprice,FcstDate) values(?,?)\", row.ForecastPrice, row.ForecastDate)\n",
    "\n",
    "cnxn.commit()\n",
    "cursor.close()"
   ]
  },
  {
   "cell_type": "code",
   "execution_count": null,
   "metadata": {
    "application/vnd.databricks.v1+cell": {
     "inputWidgets": {},
     "nuid": "614a5967-9e1d-4735-9b63-289ff75b886e",
     "showTitle": false,
     "title": ""
    }
   },
   "outputs": [],
   "source": []
  },
  {
   "cell_type": "code",
   "execution_count": null,
   "metadata": {
    "application/vnd.databricks.v1+cell": {
     "inputWidgets": {},
     "nuid": "cd9f4edf-f4bb-496d-b119-db9f32ca86e0",
     "showTitle": false,
     "title": ""
    }
   },
   "outputs": [],
   "source": []
  },
  {
   "cell_type": "code",
   "execution_count": null,
   "metadata": {
    "application/vnd.databricks.v1+cell": {
     "inputWidgets": {},
     "nuid": "536c09b9-489b-4dd1-8e26-29647783aec2",
     "showTitle": false,
     "title": ""
    }
   },
   "outputs": [],
   "source": []
  }
 ],
 "metadata": {
  "application/vnd.databricks.v1+notebook": {
   "dashboards": [],
   "language": "python",
   "notebookName": "AzureMLcryptofcst",
   "notebookOrigID": 2988892303724223,
   "widgets": {}
  },
  "kernelspec": {
   "display_name": "Python 3",
   "language": "python",
   "name": "python3"
  },
  "language_info": {
   "codemirror_mode": {
    "name": "ipython",
    "version": 3
   },
   "file_extension": ".py",
   "mimetype": "text/x-python",
   "name": "python",
   "nbconvert_exporter": "python",
   "pygments_lexer": "ipython3",
   "version": "3.8.5"
  }
 },
 "nbformat": 4,
 "nbformat_minor": 1
}
